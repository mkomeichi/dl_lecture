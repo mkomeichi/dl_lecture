{
 "cells": [
  {
   "cell_type": "markdown",
   "metadata": {},
   "source": [
    "# 第6回演習課題"
   ]
  },
  {
   "cell_type": "code",
   "execution_count": null,
   "metadata": {
    "collapsed": false
   },
   "outputs": [],
   "source": [
    "import numpy as np\n",
    "import theano.tensor as T\n",
    "import theano"
   ]
  },
  {
   "cell_type": "markdown",
   "metadata": {},
   "source": [
    "## 課題1．convとdownsampleの使い方"
   ]
  },
  {
   "cell_type": "markdown",
   "metadata": {},
   "source": [
    "### Convolution"
   ]
  },
  {
   "cell_type": "markdown",
   "metadata": {},
   "source": [
    "- 畳み込みのフィルタ（重み）$W_{i,j}^{k,l}$\n",
    "    - 次元数4$(k,l,i,j)$\n",
    "        - $l$：入力のチャネル数\n",
    "        - $k$：フィルタ数（出力のチャネル数)\n",
    "        - $i$：フィルタの行数\n",
    "        - $j$：フィルタの列数\n",
    "    - ストライド：フィルタを適用する位置の間隔（theanoのsubsampleオプション）\n",
    "    - ゼロパディング：入力の周りに値0の縁を加える（theanoのborder_mode=\"full\"オプション）\n",
    "        - 入力のサイズを保つ為，フィルタの縦or横の次元が$F$のときパディング数を$(F-1)/2$とする．\n",
    "        - ただしborder_mode=\"full\"だと，$F-1$となることに注意\n",
    "- 入力または隠れ層$X_{i,j}^{k}$\n",
    "    - 次元数4$(n,k,i,j)$\n",
    "        - $n$：バッチサイズ\n",
    "        - $k$：チャネル数\n",
    "        - $i$：入力の行数\n",
    "        - $j$：入力の列数\n",
    "- フィルタ後のサイズは，入力の縦or横の次元数$N$，フィルタの縦or横の次元数$F$，ストライドの縦or横の量$S$で決まる．\n",
    "    - $(N-F)/S+1$\n",
    "    - border_mode=\"full\"の場合，S=1のとき$(N-F+2(F-1))+1=N+F-1$"
   ]
  },
  {
   "cell_type": "code",
   "execution_count": null,
   "metadata": {
    "collapsed": false
   },
   "outputs": [],
   "source": [
    "from theano.tensor.nnet import conv\n",
    "\n",
    "#入力 (バッチサイズとチャネル数は1）\n",
    "x = T.fmatrix('x')\n",
    "x_4d = x[np.newaxis,np.newaxis,:,:]\n",
    "#x_4d = x.dimshuffle('x','x',0,1)でも可\n",
    "\n",
    "#フィルタ(1,1,3,1)\n",
    "W = np.array([[1,0,1],[0,1,0],[1,0,1]]).astype(\"float32\").reshape(1, 1, 3, 3)\n",
    "\n",
    "#畳み込み((5-3)+1=3)\n",
    "convoluted_image = conv.conv2d(x_4d, W, border_mode=\"valid\")\n",
    "\n",
    "#ストライド(2×2)((5-3)/2+1=2)\n",
    "stride_convoluted_image = conv.conv2d(x_4d, W, border_mode=\"valid\",subsample=(2, 2))\n",
    "\n",
    "#パディング(full)((5+3)-1=7)\n",
    "fullpadding_convoluted_image = conv.conv2d(x_4d, W, border_mode=\"full\")\n",
    "\n",
    "#パディング(same size)\n",
    "pd_h = W.shape[2]-1\n",
    "pd_w = W.shape[3]-1\n",
    "x_h = x_4d.shape[2]\n",
    "x_w = x_4d.shape[3]\n",
    "samepadding_convoluted_image = conv.conv2d(x_4d, W, border_mode=\"full\")[:,:,pd_h:x_h+pd_h,pd_w:x_w+pd_w]\n",
    "\n",
    "#Convolution Function\n",
    "convolution = theano.function([x], convoluted_image)\n",
    "stride_convolution = theano.function([x], stride_convoluted_image)\n",
    "fullpadding_convolution = theano.function([x], fullpadding_convoluted_image)\n",
    "samepadding_convolution = theano.function([x], samepadding_convoluted_image)\n",
    "\n",
    "#Sample Image (5×5)\n",
    "sample_image = np.array([[1., 1., 1., 0., 0.], \n",
    "                         [0., 1., 1., 1., 0.], \n",
    "                         [0., 0., 1., 1., 1.], \n",
    "                         [0., 0., 1., 1., 0.], \n",
    "                         [0., 1., 1., 0., 0.]]).astype(\"float32\")\n",
    "\n",
    "#Original Image\n",
    "print sample_image\n",
    "\n",
    "#Convolved Image\n",
    "print convolution(sample_image).reshape(3, 3)\n",
    "print stride_convolution(sample_image).reshape(2, 2)\n",
    "print fullpadding_convolution(sample_image).reshape(7, 7)\n",
    "print samepadding_convolution(sample_image).reshape(5, 5)"
   ]
  },
  {
   "cell_type": "markdown",
   "metadata": {},
   "source": [
    "### Pooling"
   ]
  },
  {
   "cell_type": "markdown",
   "metadata": {},
   "source": [
    "- プーリングには次の種類がある\n",
    "    - Max pooling (theanoでは'max')\n",
    "    - Sum pooling (theanoでは'sum')\n",
    "    - Mean pooling (theanoでは'average_exc_pad')\n",
    "    - その他Lpプーリングなど(theano未実装)\n",
    "- Convと同様，ストライドやパディングも考えることもある．\n",
    "    - ストライドはデフォルトではdsと同じ\n",
    "- ignore_border=Falseにすると，画像領域を超える"
   ]
  },
  {
   "cell_type": "code",
   "execution_count": null,
   "metadata": {
    "collapsed": false
   },
   "outputs": [],
   "source": [
    "from theano.tensor.signal import downsample\n",
    "\n",
    "#入力 (バッチサイズとチャネル数は1）\n",
    "x = T.fmatrix('x')\n",
    "x_4d = x[np.newaxis,np.newaxis,:,:]\n",
    "#x_4d = x.dimshuffle('x','x',0,1)でも可\n",
    "\n",
    "#pooling\n",
    "pooled = downsample.max_pool_2d(input=x_4d, ds=(2,2), ignore_border=True)\n",
    "\n",
    "#ストライド(1×1，デフォルトではdsと同じ）\n",
    "stride_pooled = downsample.max_pool_2d(input=x_4d, ds=(2,2), st=(1,1), ignore_border=True)\n",
    "\n",
    "#パディング\n",
    "padding_pooled = downsample.max_pool_2d(input=x_4d, ds=(2,2), ignore_border=True, padding=(1,1))\n",
    "\n",
    "#mean pooling\n",
    "#mean_pooled = downsample.max_pool_2d(input=x_4d, ds=(2,2), mode='average_exc_pad', ignore_border=True)\n",
    "\n",
    "#Pooling Function\n",
    "pooling = theano.function([x], pooled)\n",
    "stride_pooling = theano.function([x], stride_pooled)\n",
    "padding_pooling = theano.function([x], padding_pooled)\n",
    "#mean_pooling = theano.function([x], mean_pooled)\n",
    "\n",
    "#Sample Image (5×5)\n",
    "sample_image = np.array([[77, 80, 82, 78, 70], \n",
    "                         [83, 78, 80, 83, 82], \n",
    "                         [87, 82, 81, 80, 74], \n",
    "                         [87, 87, 85, 77, 66], \n",
    "                         [84, 79, 77, 78, 76]]).astype(\"float32\")\n",
    "\n",
    "print pooling(sample_image).reshape(2, 2)\n",
    "print stride_pooling(sample_image).reshape(4, 4)\n",
    "print padding_pooling(sample_image).reshape(3, 3)\n",
    "#print mean_pooling(sample_image).reshape(2, 2)"
   ]
  },
  {
   "cell_type": "markdown",
   "metadata": {},
   "source": [
    "## 課題2．Conv layerとPooling layerの実装"
   ]
  },
  {
   "cell_type": "markdown",
   "metadata": {},
   "source": [
    "Conv layer"
   ]
  },
  {
   "cell_type": "code",
   "execution_count": null,
   "metadata": {
    "collapsed": false
   },
   "outputs": [],
   "source": [
    "from theano.tensor.nnet import conv\n",
    "class Conv:\n",
    "    def __init__(self,filter_shape,function,border_mode=\"valid\",subsample=(1, 1)):\n",
    "        \n",
    "        self.function = function\n",
    "        self.border_mode = border_mode\n",
    "        self.subsample = subsample\n",
    "        \n",
    "        fan_in = np.prod(filter_shape[1:])\n",
    "        fan_out = (filter_shape[0] * np.prod(filter_shape[2:]))\n",
    "        \n",
    "        self.W = theano.shared(rng.uniform(\n",
    "                    low=-4*np.sqrt(6. / (fan_in + fan_out)),\n",
    "                    high=4*np.sqrt(6. / (fan_in + fan_out)),\n",
    "                    size=filter_shape\n",
    "                ).astype(\"float32\"),name=\"W\")\n",
    "        #バイアスはフィルタごと\n",
    "        self.b = theano.shared(np.zeros((filter_shape[0],), dtype=\"float32\"),name=\"b\")\n",
    "        self.params = [self.W,self.b]\n",
    "        \n",
    "    def fprop(self,x):\n",
    "        #畳込み処理\n",
    "        conv_out = conv.conv2d(x,self.W,\n",
    "                               border_mode=self.border_mode,\n",
    "                               subsample=self.subsample)\n",
    "        #バイアスを加えて（第1要素）活性化関数をかける\n",
    "        y = self.function(conv_out + self.b[np.newaxis,:,np.newaxis,np.newaxis])\n",
    "        return y"
   ]
  },
  {
   "cell_type": "markdown",
   "metadata": {},
   "source": [
    "Pooling layer"
   ]
  },
  {
   "cell_type": "code",
   "execution_count": null,
   "metadata": {
    "collapsed": true
   },
   "outputs": [],
   "source": [
    "from theano.tensor.signal import downsample\n",
    "class Pooling:\n",
    "    def __init__(self,pool_size=(2,2)):\n",
    "        self.pool_size=pool_size\n",
    "        self.params = []\n",
    "    def fprop(self,x):\n",
    "        #プーリングした値を返す\n",
    "        return downsample.max_pool_2d(x,self.pool_size,ignore_border=True)"
   ]
  },
  {
   "cell_type": "markdown",
   "metadata": {},
   "source": [
    "Flatten layer"
   ]
  },
  {
   "cell_type": "code",
   "execution_count": null,
   "metadata": {
    "collapsed": false
   },
   "outputs": [],
   "source": [
    "class Flatten:\n",
    "    def __init__(self,outdim=2):\n",
    "        self.outdim = outdim\n",
    "        self.params = []\n",
    "    def fprop(self,x):\n",
    "        #flattenはoutdim次元にする関数\n",
    "        return T.flatten(x,self.outdim)"
   ]
  },
  {
   "cell_type": "markdown",
   "metadata": {},
   "source": [
    "## 宿題．畳み込みニューラルネットワークの実装，MNISTでの実験．"
   ]
  },
  {
   "cell_type": "markdown",
   "metadata": {},
   "source": [
    "- データはmnist_x,mnist_yで与えられます\n",
    "    - mnsit_xとmnist_yをtrain_X,train_yとvalid_X,valid_yに分けるなどしてモデルを学習してください\n",
    "- test関数を定義してください\n",
    "    - 採点システム側で用意したtest_Xを与えたときの出力の精度(F値)で評価します"
   ]
  },
  {
   "cell_type": "code",
   "execution_count": null,
   "metadata": {
    "collapsed": true
   },
   "outputs": [],
   "source": [
    "import numpy as np\n",
    "import theano\n",
    "import theano.tensor as T\n",
    "from theano.tensor.shared_randomstreams import RandomStreams\n",
    "from collections import OrderedDict\n",
    "rng = np.random.RandomState(1234)\n",
    "\n",
    "%matplotlib inline\n",
    "import matplotlib.pyplot as plt\n",
    "\n",
    "from sklearn.utils import shuffle\n",
    "from sklearn.cross_validation import train_test_split\n",
    "\n",
    "from sklearn.metrics import f1_score\n",
    "from sklearn.datasets import fetch_mldata\n",
    "mnist = fetch_mldata('MNIST original')\n",
    "mnist_x, mnist_y = mnist.data.astype(\"float32\")/255.0, mnist.target.astype(\"int32\")"
   ]
  },
  {
   "cell_type": "markdown",
   "metadata": {},
   "source": [
    "次のセルを完成させて提出してください\n",
    "- レイヤークラスなど，必要なものは全て書いてください"
   ]
  },
  {
   "cell_type": "code",
   "execution_count": null,
   "metadata": {
    "collapsed": false,
    "scrolled": true
   },
   "outputs": [],
   "source": [
    "#SGD\n",
    "def sgd(params,gparams,lr=0.1):\n",
    "    \n",
    "#Layer \n",
    "class Layer:\n",
    "    \n",
    "#Conv layer\n",
    "class Conv:\n",
    "\n",
    "#Pooling layer\n",
    "class Pooling:\n",
    "\n",
    "#Flatten layer\n",
    "class Flatten:\n",
    "    \n",
    "train_X, valid_X, train_y, valid_y = train_test_split(mnist_x, mnist_y, test_size=0.2, random_state=42)\n",
    "\n",
    "activation = \n",
    "layers = [\n",
    "    Conv((20,1,5,5),activation),\n",
    "    Pooling((2,2)),\n",
    "    Conv((50,20,5,5),activation),\n",
    "    Pooling((2,2)),\n",
    "    Flatten(2),\n",
    "    Layer(800,500, activation),#800=((((28-5+1)/2)-5+1)/2)**2*50\n",
    "    Layer(500,10, T.nnet.softmax)\n",
    "]\n",
    "\n",
    "x, t = T.fmatrix(\"x\"), T.ivector(\"t\")\n",
    "x_4d = x.reshape((x.shape[0],1,28,28)) #画像を4次元にする\n",
    "\n",
    "params = []\n",
    "layer_out = x_4d\n",
    "for i, layer in enumerate(layers):\n",
    "    params += layer.params\n",
    "    layer_out = layer.fprop(layer_out)\n",
    "\n",
    "cost = - T.mean((T.log(y))[T.arange(x.shape[0]), t])\n",
    "\n",
    "gparams = T.grad(cost, params)\n",
    "updates = sgd(params,gparams)\n",
    "\n",
    "train = theano.function([x,t], cost, updates=updates)\n",
    "valid  = theano.function([x,t],[cost, T.argmax(y, axis=1)])\n",
    "test  = theano.function([x],T.argmax(y, axis=1))\n",
    "\n",
    "##以下は通常のMLPと同じ実装で訓練"
   ]
  },
  {
   "cell_type": "markdown",
   "metadata": {},
   "source": [
    "以下の処理は，システム側で行います"
   ]
  },
  {
   "cell_type": "code",
   "execution_count": null,
   "metadata": {
    "collapsed": true
   },
   "outputs": [],
   "source": [
    "pred_y = test(test_X)"
   ]
  }
 ],
 "metadata": {
  "kernelspec": {
   "display_name": "Python 2",
   "language": "python",
   "name": "python2"
  },
  "language_info": {
   "codemirror_mode": {
    "name": "ipython",
    "version": 2
   },
   "file_extension": ".py",
   "mimetype": "text/x-python",
   "name": "python",
   "nbconvert_exporter": "python",
   "pygments_lexer": "ipython2",
   "version": "2.7.10"
  }
 },
 "nbformat": 4,
 "nbformat_minor": 0
}
