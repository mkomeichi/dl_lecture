{
 "cells": [
  {
   "cell_type": "code",
   "execution_count": 1,
   "metadata": {
    "collapsed": false
   },
   "outputs": [
    {
     "data": {
      "text/plain": [
       "'0.13.1'"
      ]
     },
     "execution_count": 1,
     "metadata": {},
     "output_type": "execute_result"
    }
   ],
   "source": [
    "import pandas as pd\n",
    "pd.version.version"
   ]
  },
  {
   "cell_type": "code",
   "execution_count": 2,
   "metadata": {
    "collapsed": false
   },
   "outputs": [
    {
     "name": "stdout",
     "output_type": "stream",
     "text": [
      "\n",
      "INSTALLED VERSIONS\n",
      "------------------\n",
      "commit: None\n",
      "python: 2.7.6.final.0\n",
      "python-bits: 64\n",
      "OS: Linux\n",
      "OS-release: 3.13.0-24-generic\n",
      "machine: x86_64\n",
      "processor: x86_64\n",
      "byteorder: little\n",
      "LC_ALL: None\n",
      "LANG: ja_JP.UTF-8\n",
      "\n",
      "pandas: 0.13.1\n",
      "Cython: None\n",
      "numpy: 1.8.2\n",
      "scipy: 0.13.3\n",
      "statsmodels: 0.5.0\n",
      "IPython: 4.0.0\n",
      "sphinx: None\n",
      "patsy: 0.2.1\n",
      "scikits.timeseries: None\n",
      "dateutil: 1.5\n",
      "pytz: 2012c\n",
      "bottleneck: None\n",
      "tables: 3.1.1\n",
      "numexpr: 2.2.2\n",
      "matplotlib: 1.3.1\n",
      "openpyxl: 1.7.0\n",
      "xlrd: 0.9.2\n",
      "xlwt: 0.7.5\n",
      "xlsxwriter: None\n",
      "sqlalchemy: None\n",
      "lxml: 3.3.3\n",
      "bs4: 4.2.1\n",
      "html5lib: 0.999\n",
      "bq: None\n",
      "apiclient: None\n"
     ]
    }
   ],
   "source": [
    "pd.show_versions()"
   ]
  },
  {
   "cell_type": "code",
   "execution_count": 18,
   "metadata": {
    "collapsed": false
   },
   "outputs": [
    {
     "name": "stdout",
     "output_type": "stream",
     "text": [
      "c , d\n",
      "[[1 2]\n",
      " [3 4]] \n",
      "[0 1]\n",
      "c * d\n",
      "[[0 2]\n",
      " [0 4]]\n",
      "c * d.T\n",
      "[[0 2]\n",
      " [0 4]]\n",
      "c * d.reshape(1,2)\n",
      "[[0 2]\n",
      " [0 4]]\n",
      "c * d.reshape(2,1)\n",
      "[[0 0]\n",
      " [3 4]]\n",
      "c* np.atleast_2d(d).T\n",
      "[[0 0]\n",
      " [3 4]]\n",
      "c * d[:, np.newaxis]\n",
      "[[0 0]\n",
      " [3 4]]\n"
     ]
    }
   ],
   "source": [
    "#ndarray オンリーにして書いてるのですが，行列同士を np.dot で掛けると\n",
    "#行列積になるけど，自動で転置をしてくれる\n",
    "#自動で転置をするのは片方がベクトル(１次元)の時だけで\n",
    "#両方が行列（２次元）の場合は、明示的に第１項の列数と第２項の行数をあわせないとエラーになります\n",
    "\n",
    "import numpy as np\n",
    "c = np.arange(1,5).reshape(2,2)\n",
    "d = np.arange(2)\n",
    "print \"c , d\\n\", c, \"\\n\", d\n",
    "print \"c * d\\n\", c * d\n",
    "print \"c * d.T\\n\", c * d.T\n",
    "print \"c * d.reshape(1,2)\\n\", c * d.reshape(1,2)\n",
    "print \"c * d.reshape(2,1)\\n\", c * d.reshape(2,1)\n",
    "print \"c* np.atleast_2d(d).T\\n\", c* np.atleast_2d(d).T\n",
    "print \"c * d[:, np.newaxis]\\n\", c * d[:, np.newaxis]"
   ]
  },
  {
   "cell_type": "code",
   "execution_count": null,
   "metadata": {
    "collapsed": true
   },
   "outputs": [],
   "source": []
  }
 ],
 "metadata": {
  "kernelspec": {
   "display_name": "Python 2",
   "language": "python",
   "name": "python2"
  },
  "language_info": {
   "codemirror_mode": {
    "name": "ipython",
    "version": 2
   },
   "file_extension": ".py",
   "mimetype": "text/x-python",
   "name": "python",
   "nbconvert_exporter": "python",
   "pygments_lexer": "ipython2",
   "version": "2.7.10"
  }
 },
 "nbformat": 4,
 "nbformat_minor": 0
}
