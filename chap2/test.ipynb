{
 "cells": [
  {
   "cell_type": "code",
   "execution_count": 1,
   "metadata": {
    "collapsed": false
   },
   "outputs": [
    {
     "data": {
      "text/plain": [
       "'0.13.1'"
      ]
     },
     "execution_count": 1,
     "metadata": {},
     "output_type": "execute_result"
    }
   ],
   "source": [
    "import pandas as pd\n",
    "pd.version.version"
   ]
  },
  {
   "cell_type": "code",
   "execution_count": 2,
   "metadata": {
    "collapsed": false
   },
   "outputs": [
    {
     "name": "stdout",
     "output_type": "stream",
     "text": [
      "\n",
      "INSTALLED VERSIONS\n",
      "------------------\n",
      "commit: None\n",
      "python: 2.7.6.final.0\n",
      "python-bits: 64\n",
      "OS: Linux\n",
      "OS-release: 3.13.0-24-generic\n",
      "machine: x86_64\n",
      "processor: x86_64\n",
      "byteorder: little\n",
      "LC_ALL: None\n",
      "LANG: ja_JP.UTF-8\n",
      "\n",
      "pandas: 0.13.1\n",
      "Cython: None\n",
      "numpy: 1.8.2\n",
      "scipy: 0.13.3\n",
      "statsmodels: 0.5.0\n",
      "IPython: 4.0.0\n",
      "sphinx: None\n",
      "patsy: 0.2.1\n",
      "scikits.timeseries: None\n",
      "dateutil: 1.5\n",
      "pytz: 2012c\n",
      "bottleneck: None\n",
      "tables: 3.1.1\n",
      "numexpr: 2.2.2\n",
      "matplotlib: 1.3.1\n",
      "openpyxl: 1.7.0\n",
      "xlrd: 0.9.2\n",
      "xlwt: 0.7.5\n",
      "xlsxwriter: None\n",
      "sqlalchemy: None\n",
      "lxml: 3.3.3\n",
      "bs4: 4.2.1\n",
      "html5lib: 0.999\n",
      "bq: None\n",
      "apiclient: None\n"
     ]
    }
   ],
   "source": [
    "pd.show_versions()"
   ]
  },
  {
   "cell_type": "code",
   "execution_count": null,
   "metadata": {
    "collapsed": true
   },
   "outputs": [],
   "source": []
  }
 ],
 "metadata": {
  "kernelspec": {
   "display_name": "Python 2",
   "language": "python",
   "name": "python2"
  },
  "language_info": {
   "codemirror_mode": {
    "name": "ipython",
    "version": 2
   },
   "file_extension": ".py",
   "mimetype": "text/x-python",
   "name": "python",
   "nbconvert_exporter": "python",
   "pygments_lexer": "ipython2",
   "version": "2.7.6"
  }
 },
 "nbformat": 4,
 "nbformat_minor": 0
}
